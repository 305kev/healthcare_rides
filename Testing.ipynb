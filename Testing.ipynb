{
 "cells": [
  {
   "cell_type": "code",
   "execution_count": 4,
   "metadata": {
    "collapsed": true
   },
   "outputs": [],
   "source": [
    "from geopy.geocoders import Nominatim\n",
    "import pandas as pd\n"
   ]
  },
  {
   "cell_type": "code",
   "execution_count": 2,
   "metadata": {
    "collapsed": true
   },
   "outputs": [],
   "source": [
    "geolocator = Nominatim()"
   ]
  },
  {
   "cell_type": "code",
   "execution_count": 5,
   "metadata": {},
   "outputs": [],
   "source": [
    "df = pd.read_csv('Community Care Clinic addresses - Sheet1 (1).csv')"
   ]
  },
  {
   "cell_type": "code",
   "execution_count": 32,
   "metadata": {},
   "outputs": [
    {
     "name": "stderr",
     "output_type": "stream",
     "text": [
      "/Users/kevinmagana/anaconda/envs/python3/lib/python3.6/site-packages/ipykernel_launcher.py:8: SettingWithCopyWarning: \n",
      "A value is trying to be set on a copy of a slice from a DataFrame\n",
      "\n",
      "See the caveats in the documentation: http://pandas.pydata.org/pandas-docs/stable/indexing.html#indexing-view-versus-copy\n",
      "  \n",
      "/Users/kevinmagana/anaconda/envs/python3/lib/python3.6/site-packages/ipykernel_launcher.py:9: SettingWithCopyWarning: \n",
      "A value is trying to be set on a copy of a slice from a DataFrame\n",
      "\n",
      "See the caveats in the documentation: http://pandas.pydata.org/pandas-docs/stable/indexing.html#indexing-view-versus-copy\n",
      "  if __name__ == '__main__':\n"
     ]
    },
    {
     "data": {
      "text/html": [
       "<div>\n",
       "<style>\n",
       "    .dataframe thead tr:only-child th {\n",
       "        text-align: right;\n",
       "    }\n",
       "\n",
       "    .dataframe thead th {\n",
       "        text-align: left;\n",
       "    }\n",
       "\n",
       "    .dataframe tbody tr th {\n",
       "        vertical-align: top;\n",
       "    }\n",
       "</style>\n",
       "<table border=\"1\" class=\"dataframe\">\n",
       "  <thead>\n",
       "    <tr style=\"text-align: right;\">\n",
       "      <th></th>\n",
       "      <th>Clinic Name</th>\n",
       "      <th>Street Address</th>\n",
       "      <th>City</th>\n",
       "      <th>State</th>\n",
       "      <th>Latitude</th>\n",
       "      <th>Longitude</th>\n",
       "    </tr>\n",
       "  </thead>\n",
       "  <tbody>\n",
       "    <tr>\n",
       "      <th>0</th>\n",
       "      <td>Austin Resource Center for the Homeless</td>\n",
       "      <td>500 East Seventh Street</td>\n",
       "      <td>Austin</td>\n",
       "      <td>TX</td>\n",
       "      <td>42.332285</td>\n",
       "      <td>-71.035849</td>\n",
       "    </tr>\n",
       "    <tr>\n",
       "      <th>1</th>\n",
       "      <td>Ben White Dental Clinic</td>\n",
       "      <td>1221 W Ben White Suite</td>\n",
       "      <td>Austin</td>\n",
       "      <td>TX</td>\n",
       "      <td>NaN</td>\n",
       "      <td>NaN</td>\n",
       "    </tr>\n",
       "    <tr>\n",
       "      <th>2</th>\n",
       "      <td>Blackstock Family Health Center</td>\n",
       "      <td>1313 Red River St Ste 100</td>\n",
       "      <td>Austin</td>\n",
       "      <td>TX</td>\n",
       "      <td>NaN</td>\n",
       "      <td>NaN</td>\n",
       "    </tr>\n",
       "    <tr>\n",
       "      <th>3</th>\n",
       "      <td>David Powell Health Center</td>\n",
       "      <td>4614 N IH 35</td>\n",
       "      <td>Austin</td>\n",
       "      <td>TX</td>\n",
       "      <td>29.529555</td>\n",
       "      <td>-98.391603</td>\n",
       "    </tr>\n",
       "    <tr>\n",
       "      <th>4</th>\n",
       "      <td>Del Valle Health Center</td>\n",
       "      <td>3518 FM 973</td>\n",
       "      <td>Del Valle</td>\n",
       "      <td>TX</td>\n",
       "      <td>30.198756</td>\n",
       "      <td>-97.642199</td>\n",
       "    </tr>\n",
       "    <tr>\n",
       "      <th>5</th>\n",
       "      <td>East Austin Health Center</td>\n",
       "      <td>211 Comal Street</td>\n",
       "      <td>Austin</td>\n",
       "      <td>TX</td>\n",
       "      <td>30.259569</td>\n",
       "      <td>-97.727465</td>\n",
       "    </tr>\n",
       "    <tr>\n",
       "      <th>6</th>\n",
       "      <td>Hancock Walk-in Care</td>\n",
       "      <td>1000 E 41st Street Ste 925</td>\n",
       "      <td>Austin</td>\n",
       "      <td>TX</td>\n",
       "      <td>NaN</td>\n",
       "      <td>NaN</td>\n",
       "    </tr>\n",
       "    <tr>\n",
       "      <th>7</th>\n",
       "      <td>Integral Care Dove Springs</td>\n",
       "      <td>5015 South IH35 Ste 200</td>\n",
       "      <td>Austin</td>\n",
       "      <td>TX</td>\n",
       "      <td>NaN</td>\n",
       "      <td>NaN</td>\n",
       "    </tr>\n",
       "    <tr>\n",
       "      <th>8</th>\n",
       "      <td>Manor Health Center</td>\n",
       "      <td>600 W CarrieManor</td>\n",
       "      <td>Manor</td>\n",
       "      <td>TX</td>\n",
       "      <td>NaN</td>\n",
       "      <td>NaN</td>\n",
       "    </tr>\n",
       "    <tr>\n",
       "      <th>9</th>\n",
       "      <td>North Central Health Center</td>\n",
       "      <td>1210 W Braker Lane</td>\n",
       "      <td>Austin</td>\n",
       "      <td>TX</td>\n",
       "      <td>30.385698</td>\n",
       "      <td>-97.694039</td>\n",
       "    </tr>\n",
       "  </tbody>\n",
       "</table>\n",
       "</div>"
      ],
      "text/plain": [
       "                               Clinic Name              Street Address  \\\n",
       "0  Austin Resource Center for the Homeless     500 East Seventh Street   \n",
       "1                  Ben White Dental Clinic      1221 W Ben White Suite   \n",
       "2          Blackstock Family Health Center   1313 Red River St Ste 100   \n",
       "3               David Powell Health Center                4614 N IH 35   \n",
       "4                  Del Valle Health Center                 3518 FM 973   \n",
       "5                East Austin Health Center            211 Comal Street   \n",
       "6                     Hancock Walk-in Care  1000 E 41st Street Ste 925   \n",
       "7               Integral Care Dove Springs     5015 South IH35 Ste 200   \n",
       "8                      Manor Health Center           600 W CarrieManor   \n",
       "9              North Central Health Center          1210 W Braker Lane   \n",
       "\n",
       "        City State   Latitude  Longitude  \n",
       "0     Austin    TX  42.332285 -71.035849  \n",
       "1     Austin    TX        NaN        NaN  \n",
       "2     Austin    TX        NaN        NaN  \n",
       "3     Austin    TX  29.529555 -98.391603  \n",
       "4  Del Valle    TX  30.198756 -97.642199  \n",
       "5     Austin    TX  30.259569 -97.727465  \n",
       "6     Austin    TX        NaN        NaN  \n",
       "7     Austin    TX        NaN        NaN  \n",
       "8      Manor    TX        NaN        NaN  \n",
       "9     Austin    TX  30.385698 -97.694039  "
      ]
     },
     "execution_count": 32,
     "metadata": {},
     "output_type": "execute_result"
    }
   ],
   "source": [
    "# df['Street Address'] = df['Street Address'].str.replace('[^\\w\\s]','')\n",
    "\n",
    "# df['Street Address'][1] = '1221 W Ben White Suite'\n",
    "\n",
    "inds = [1, 2, 6,7,8]\n",
    "\n",
    "for ind in inds: \n",
    "    df['Latitude'][ind] = None\n",
    "    df['Longitude'][ind] = None\n",
    "\n",
    "df.head(10)"
   ]
  },
  {
   "cell_type": "code",
   "execution_count": null,
   "metadata": {
    "collapsed": true
   },
   "outputs": [],
   "source": [
    "df"
   ]
  },
  {
   "cell_type": "code",
   "execution_count": 31,
   "metadata": {},
   "outputs": [
    {
     "name": "stderr",
     "output_type": "stream",
     "text": [
      "/Users/kevinmagana/anaconda/envs/python3/lib/python3.6/site-packages/ipykernel_launcher.py:7: SettingWithCopyWarning: \n",
      "A value is trying to be set on a copy of a slice from a DataFrame\n",
      "\n",
      "See the caveats in the documentation: http://pandas.pydata.org/pandas-docs/stable/indexing.html#indexing-view-versus-copy\n",
      "  import sys\n",
      "/Users/kevinmagana/anaconda/envs/python3/lib/python3.6/site-packages/ipykernel_launcher.py:8: SettingWithCopyWarning: \n",
      "A value is trying to be set on a copy of a slice from a DataFrame\n",
      "\n",
      "See the caveats in the documentation: http://pandas.pydata.org/pandas-docs/stable/indexing.html#indexing-view-versus-copy\n",
      "  \n"
     ]
    },
    {
     "name": "stdout",
     "output_type": "stream",
     "text": [
      "Austin Resource Center for the Homeless\n",
      "David Powell Health Center\n",
      "Del Valle Health Center\n",
      "East Austin Health Center\n",
      "North Central Health Center\n",
      "Oak Hill Health Center\n",
      "Pflugerville Health Center\n",
      "Rosewood Zaragosa Health Center\n",
      "Rundberg Health Center\n",
      "Sandra Joy Anderson Community Health & Wellness Center\n",
      "South Austin Health Center\n",
      "Southeast Health and Wellness Center\n",
      "William Cannon Walk-In Care\n",
      "Women's Health Center\n"
     ]
    }
   ],
   "source": [
    "lats = []\n",
    "longs = []\n",
    "\n",
    "for ind, loc in enumerate(df['Street Address']):\n",
    "    if geolocator.geocode(loc):\n",
    "        location = geolocator.geocode(loc)\n",
    "        df['Latitude'][ind] = location.latitude\n",
    "        df['Longitude'][ind] = location.longitude\n",
    "        print(df['Clinic Name'][ind])\n",
    "    \n",
    "    \n",
    "    "
   ]
  },
  {
   "cell_type": "code",
   "execution_count": 34,
   "metadata": {},
   "outputs": [],
   "source": [
    "df.to_csv('updated_health_address.csv')"
   ]
  },
  {
   "cell_type": "code",
   "execution_count": null,
   "metadata": {
    "collapsed": true
   },
   "outputs": [],
   "source": []
  }
 ],
 "metadata": {
  "kernelspec": {
   "display_name": "Python 3",
   "language": "python",
   "name": "python3"
  },
  "language_info": {
   "codemirror_mode": {
    "name": "ipython",
    "version": 3
   },
   "file_extension": ".py",
   "mimetype": "text/x-python",
   "name": "python",
   "nbconvert_exporter": "python",
   "pygments_lexer": "ipython3",
   "version": "3.6.3"
  }
 },
 "nbformat": 4,
 "nbformat_minor": 2
}
